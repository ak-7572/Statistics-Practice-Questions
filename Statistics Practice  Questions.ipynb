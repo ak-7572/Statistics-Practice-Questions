{
  "cells": [
    {
      "cell_type": "code",
      "source": [
        "# Q1. Generate a list of 100 integers containing values between 90 to 130 and store it in the variable `int_list`.\n",
        "# After generating the list, find the following:\n",
        "# (i) Write a Python function to calculate the mean of a given list of numbers.\n",
        "# Create a function to find the median of a list of numbers.\n",
        "# (ii) Develop a program to compute the mode of a list of integers.\n",
        "# (iii) Implement a function to calculate the weighted mean of a list of values and their corresponding weights.\n",
        "# (iv) Write a Python function to find the geometric mean of a list of positive numbers.\n",
        "# (v) Create a program to calculate the harmonic mean of a list of values.\n",
        "# (vi) Build a function to determine the midrange of a list of numbers (average of the minimum and maximum).\n",
        "# (vii) Implement a Python program to find the trimmed mean of a list, excluding a certain percentage of outliers.\n",
        "\n",
        "\n",
        "import random\n",
        "import statistics\n",
        "from scipy.stats import gmean, hmean\n",
        "\n",
        "# Step 1: Generate a list of 100 integers between 90 and 130\n",
        "int_list = [random.randint(90, 130) for _ in range(100)]\n",
        "\n",
        "# Function to calculate the mean\n",
        "def calculate_mean(numbers):\n",
        "    return sum(numbers) / len(numbers)\n",
        "\n",
        "# Function to calculate the median\n",
        "def calculate_median(numbers):\n",
        "    sorted_numbers = sorted(numbers)\n",
        "    n = len(sorted_numbers)\n",
        "    mid = n // 2\n",
        "    if n % 2 == 0:  # Even number of elements\n",
        "        return (sorted_numbers[mid - 1] + sorted_numbers[mid]) / 2\n",
        "    else:  # Odd number of elements\n",
        "        return sorted_numbers[mid]\n",
        "\n",
        "# Function to compute the mode\n",
        "def calculate_mode(numbers):\n",
        "    try:\n",
        "        return statistics.mode(numbers)\n",
        "    except statistics.StatisticsError:  # Handle no unique mode\n",
        "        return \"No unique mode found\"\n",
        "\n",
        "# Function to calculate the weighted mean\n",
        "def calculate_weighted_mean(values, weights):\n",
        "    return sum(v * w for v, w in zip(values, weights)) / sum(weights)\n",
        "\n",
        "# Function to calculate the geometric mean\n",
        "def calculate_geometric_mean(numbers):\n",
        "    return gmean(numbers)\n",
        "\n",
        "# Function to calculate the harmonic mean\n",
        "def calculate_harmonic_mean(numbers):\n",
        "    return hmean(numbers)\n",
        "\n",
        "# Function to determine the midrange\n",
        "def calculate_midrange(numbers):\n",
        "    return (min(numbers) + max(numbers)) / 2\n",
        "\n",
        "# Function to calculate the trimmed mean\n",
        "def calculate_trimmed_mean(numbers, percentage):\n",
        "    sorted_numbers = sorted(numbers)\n",
        "    trim_count = int(len(numbers) * percentage / 100)\n",
        "    trimmed_numbers = sorted_numbers[trim_count:-trim_count]\n",
        "    return calculate_mean(trimmed_numbers)\n",
        "\n",
        "# Analyze the generated list\n",
        "mean = calculate_mean(int_list)\n",
        "median = calculate_median(int_list)\n",
        "mode = calculate_mode(int_list)\n",
        "weighted_mean = calculate_weighted_mean(int_list, [1] * len(int_list))  # Equal weights\n",
        "geometric_mean = calculate_geometric_mean(int_list)\n",
        "harmonic_mean = calculate_harmonic_mean(int_list)\n",
        "midrange = calculate_midrange(int_list)\n",
        "trimmed_mean = calculate_trimmed_mean(int_list, 10)  # Excluding 10% outliers\n",
        "\n",
        "mean, median, mode, weighted_mean, geometric_mean, harmonic_mean, midrange, trimmed_mean\n"
      ],
      "metadata": {
        "id": "3Lf6c_lmjMAk",
        "colab": {
          "base_uri": "https://localhost:8080/"
        },
        "outputId": "3182b460-d7d4-4767-80a0-6f94cc9d1519"
      },
      "execution_count": 1,
      "outputs": [
        {
          "output_type": "execute_result",
          "data": {
            "text/plain": [
              "(108.23,\n",
              " 108.0,\n",
              " 92,\n",
              " 108.23,\n",
              " 107.53117425129157,\n",
              " 106.8310665349132,\n",
              " 110.0,\n",
              " 108.1375)"
            ]
          },
          "metadata": {},
          "execution_count": 1
        }
      ]
    },
    {
      "cell_type": "code",
      "source": [
        "# Q2.  Generate a list of 500 integers containing values between 200 to 300 and store it in the variable `int_list2`.\n",
        "# After generating the list, find the following:\n",
        "# (i) Compare the given list of visualization for the given data:\n",
        "# 1. Frequency & Gaussian distribution\n",
        "# 2. Frequency smoothened KDE plot\n",
        "# 3. Gaussian distribution & smoothened KDE plot\n",
        "# (ii) Write a Python function to calculate the range of a given list of numbers.\n",
        "# (iii) Create a program to find the variance and standard deviation of a list of numbers.\n",
        "# (iv) Implement a function to compute the interquartile range (IQR) of a list of values.\n",
        "# (v) Build a program to calculate the coefficient of variation for a dataset.\n",
        "# (vi) Write a Python function to find the mean absolute deviation (MAD) of a list of numbers.\n",
        "# (vii) Create a program to calculate the quartile deviation of a list of values.\n",
        "# (viii) Implement a function to find the range-based coefficient of dispersion for a dataset.\n",
        "\n",
        "\n",
        "import numpy as np\n",
        "import seaborn as sns\n",
        "import matplotlib.pyplot as plt\n",
        "\n",
        "# Step 1: Generate a list of 500 integers between 200 and 300\n",
        "int_list2 = [random.randint(200, 300) for _ in range(500)]\n",
        "\n",
        "# Function to calculate the range of a list\n",
        "def calculate_range(numbers):\n",
        "    return max(numbers) - min(numbers)\n",
        "\n",
        "# Function to calculate variance and standard deviation\n",
        "def calculate_variance_std(numbers):\n",
        "    variance = np.var(numbers, ddof=1)  # Sample variance\n",
        "    std_dev = np.sqrt(variance)\n",
        "    return variance, std_dev\n",
        "\n",
        "# Function to compute the interquartile range (IQR)\n",
        "def calculate_iqr(numbers):\n",
        "    q1 = np.percentile(numbers, 25)\n",
        "    q3 = np.percentile(numbers, 75)\n",
        "    return q3 - q1\n",
        "\n",
        "# Function to calculate the coefficient of variation\n",
        "def calculate_coefficient_of_variation(numbers):\n",
        "    mean = np.mean(numbers)\n",
        "    std_dev = np.std(numbers, ddof=1)\n",
        "    return (std_dev / mean) * 100\n",
        "\n",
        "# Function to calculate the mean absolute deviation (MAD)\n",
        "def calculate_mad(numbers):\n",
        "    mean = np.mean(numbers)\n",
        "    return np.mean([abs(x - mean) for x in numbers])\n",
        "\n",
        "# Function to calculate the quartile deviation\n",
        "def calculate_quartile_deviation(numbers):\n",
        "    iqr = calculate_iqr(numbers)\n",
        "    return iqr / 2\n",
        "\n",
        "# Function to calculate the range-based coefficient of dispersion\n",
        "def calculate_range_dispersion(numbers):\n",
        "    range_value = calculate_range(numbers)\n",
        "    mean = np.mean(numbers)\n",
        "    return range_value / mean\n",
        "\n",
        "# Calculations\n",
        "range_value = calculate_range(int_list2)\n",
        "variance, std_dev = calculate_variance_std(int_list2)\n",
        "iqr = calculate_iqr(int_list2)\n",
        "coefficient_of_variation = calculate_coefficient_of_variation(int_list2)\n",
        "mad = calculate_mad(int_list2)\n",
        "quartile_deviation = calculate_quartile_deviation(int_list2)\n",
        "range_dispersion = calculate_range_dispersion(int_list2)\n",
        "\n",
        "# Visualization\n",
        "plt.figure(figsize=(16, 8))\n",
        "\n",
        "# Frequency & Gaussian distribution\n",
        "plt.subplot(1, 3, 1)\n",
        "sns.histplot(int_list2, kde=True, stat=\"density\", label=\"Frequency\", color=\"blue\", bins=20)\n",
        "sns.kdeplot(int_list2, color=\"red\", label=\"Gaussian Distribution\", linestyle=\"--\")\n",
        "plt.title(\"Frequency & Gaussian Distribution\")\n",
        "plt.legend()\n",
        "\n",
        "# Frequency smoothened KDE plot\n",
        "plt.subplot(1, 3, 2)\n",
        "sns.histplot(int_list2, kde=True, stat=\"density\", color=\"green\", bins=20)\n",
        "plt.title(\"Frequency Smoothened KDE Plot\")\n",
        "\n",
        "# Gaussian distribution & smoothened KDE plot\n",
        "plt.subplot(1, 3, 3)\n",
        "sns.kdeplot(int_list2, color=\"purple\", label=\"Smoothened KDE\")\n",
        "sns.lineplot(x=np.linspace(min(int_list2), max(int_list2), 500),\n",
        "             y=np.random.normal(np.mean(int_list2), np.std(int_list2), 500),\n",
        "             color=\"orange\", label=\"Gaussian Distribution\")\n",
        "plt.title(\"Gaussian Distribution & Smoothened KDE Plot\")\n",
        "plt.legend()\n",
        "\n",
        "plt.tight_layout()\n",
        "plt.show()\n",
        "\n",
        "# Results\n",
        "range_value, variance, std_dev, iqr, coefficient_of_variation, mad, quartile_deviation, range_dispersion\n"
      ],
      "metadata": {
        "colab": {
          "base_uri": "https://localhost:8080/",
          "height": 605
        },
        "id": "iUQlQjOr42Bx",
        "outputId": "0149a842-0a17-4069-e805-d1f7a0cb4257"
      },
      "execution_count": 2,
      "outputs": [
        {
          "output_type": "display_data",
          "data": {
            "text/plain": [
              "<Figure size 1600x800 with 3 Axes>"
            ],
            "image/png": "[encoded data removed]"
          },
          "metadata": {}
        },
        {
          "output_type": "execute_result",
          "data": {
            "text/plain": [
              "(100,\n",
              " 927.7414188376754,\n",
              " 30.458847956508063,\n",
              " 54.0,\n",
              " 12.207563667901656,\n",
              " 26.433968,\n",
              " 27.0,\n",
              " 0.4007887522644564)"
            ]
          },
          "metadata": {},
          "execution_count": 2
        }
      ]
    },
    {
      "cell_type": "code",
      "source": [
        "# Visualizations:\n",
        "# Frequency & Gaussian Distribution:\n",
        "\n",
        "# Displays the frequency histogram overlaid with a Gaussian distribution (red dashed line).\n",
        "# Frequency Smoothened KDE Plot:\n",
        "\n",
        "# Shows a histogram with a Kernel Density Estimate (KDE) smoothing.\n",
        "# Gaussian Distribution & Smoothened KDE Plot:\n",
        "\n",
        "# A comparison of the KDE (purple) and the Gaussian distribution (orange line)."
      ],
      "metadata": {
        "id": "8_aFK0ob5c9x"
      },
      "execution_count": null,
      "outputs": []
    },
    {
      "cell_type": "code",
      "source": [
        "# Q3.  Write a Python class representing a discrete random variable with methods to calculate its expected value and variance.\n",
        "\n",
        "\n",
        "class DiscreteRandomVariable:\n",
        "    def __init__(self, values, probabilities):\n",
        "        \"\"\"\n",
        "        Initialize a discrete random variable.\n",
        "\n",
        "        :param values: List of possible values of the random variable.\n",
        "        :param probabilities: Corresponding probabilities for each value.\n",
        "        \"\"\"\n",
        "        if len(values) != len(probabilities):\n",
        "            raise ValueError(\"Values and probabilities must have the same length.\")\n",
        "        if not np.isclose(sum(probabilities), 1):\n",
        "            raise ValueError(\"Probabilities must sum to 1.\")\n",
        "        self.values = values\n",
        "        self.probabilities = probabilities\n",
        "\n",
        "    def expected_value(self):\n",
        "        \"\"\"\n",
        "        Calculate the expected value (mean) of the random variable.\n",
        "\n",
        "        :return: Expected value.\n",
        "        \"\"\"\n",
        "        return sum(v * p for v, p in zip(self.values, self.probabilities))\n",
        "\n",
        "    def variance(self):\n",
        "        \"\"\"\n",
        "        Calculate the variance of the random variable.\n",
        "\n",
        "        :return: Variance.\n",
        "        \"\"\"\n",
        "        mean = self.expected_value()\n",
        "        return sum(p * (v - mean) ** 2 for v, p in zip(self.values, self.probabilities))\n",
        "\n",
        "\n",
        "# Example usage\n",
        "values = [1, 2, 3, 4, 5]\n",
        "probabilities = [0.1, 0.2, 0.3, 0.2, 0.2]\n",
        "\n",
        "rv = DiscreteRandomVariable(values, probabilities)\n",
        "expected_value = rv.expected_value()\n",
        "variance = rv.variance()\n",
        "\n",
        "expected_value, variance\n"
      ],
      "metadata": {
        "colab": {
          "base_uri": "https://localhost:8080/"
        },
        "id": "jafcZ03s5HDV",
        "outputId": "91193f7b-41b8-48b2-d2e6-38be56d3e581"
      },
      "execution_count": 3,
      "outputs": [
        {
          "output_type": "execute_result",
          "data": {
            "text/plain": [
              "(3.2, 1.56)"
            ]
          },
          "metadata": {},
          "execution_count": 3
        }
      ]
    },
    {
      "cell_type": "code",
      "source": [
        "# Q4.  Implement a program to simulate the rolling of a fair six-sided die and calculate the expected value and variance of the outcomes.\n",
        "\n",
        "\n",
        "import random\n",
        "\n",
        "# Number of simulations\n",
        "n_simulations = 1000000\n",
        "\n",
        "# Rolling a die n_simulations times\n",
        "rolls = [random.randint(1, 6) for _ in range(n_simulations)]\n",
        "\n",
        "# Calculating expected value (mean)\n",
        "expected_value = sum(rolls) / n_simulations\n",
        "\n",
        "# Calculating variance\n",
        "variance = sum((x - expected_value) ** 2 for x in rolls) / n_simulations\n",
        "\n",
        "# Display the results\n",
        "print(f\"Expected Value: {expected_value}\")\n",
        "print(f\"Variance: {variance:.4f}\")\n"
      ],
      "metadata": {
        "colab": {
          "base_uri": "https://localhost:8080/"
        },
        "id": "8y7TknXo5rpF",
        "outputId": "b459fc52-3d68-40db-a53d-6723efba1f51"
      },
      "execution_count": 4,
      "outputs": [
        {
          "output_type": "stream",
          "name": "stdout",
          "text": [
            "Expected Value: 3.497331\n",
            "Variance: 2.9169\n"
          ]
        }
      ]
    },
    {
      "cell_type": "code",
      "source": [
        "# Q5.  Create a Python function to generate random samples from a given probability distribution (e.g., binomial, Poisson) and calculate their mean and variance.\n",
        "\n",
        "\n",
        "import numpy as np\n",
        "\n",
        "def generate_samples(distribution, params, n_samples=1000):\n",
        "    \"\"\"\n",
        "    Generate random samples from a specified probability distribution and calculate their mean and variance.\n",
        "\n",
        "    Args:\n",
        "        distribution (str): The type of distribution ('binomial', 'poisson', etc.).\n",
        "        params (dict): Parameters for the distribution.\n",
        "        n_samples (int): Number of samples to generate.\n",
        "\n",
        "    Returns:\n",
        "        tuple: A tuple containing the mean and variance of the generated samples.\n",
        "    \"\"\"\n",
        "    if distribution == \"binomial\":\n",
        "        n, p = params['n'], params['p']\n",
        "        samples = np.random.binomial(n, p, size=n_samples)\n",
        "    elif distribution == \"poisson\":\n",
        "        lam = params['lambda']\n",
        "        samples = np.random.poisson(lam, size=n_samples)\n",
        "    else:\n",
        "        raise ValueError(\"Unsupported distribution. Use 'binomial' or 'poisson'.\")\n",
        "\n",
        "    # Calculate mean and variance\n",
        "    mean = np.mean(samples)\n",
        "    variance = np.var(samples)\n",
        "\n",
        "    return mean, variance\n",
        "\n",
        "# Example Usage\n",
        "# Parameters for binomial distribution: n=10 trials, p=0.5 probability of success\n",
        "binomial_mean, binomial_variance = generate_samples(\"binomial\", {\"n\": 10, \"p\": 0.5}, n_samples=10000)\n",
        "print(f\"Binomial Distribution -> Mean: {binomial_mean}, Variance: {binomial_variance}\")\n",
        "\n",
        "# Parameters for Poisson distribution: lambda=4\n",
        "poisson_mean, poisson_variance = generate_samples(\"poisson\", {\"lambda\": 4}, n_samples=10000)\n",
        "print(f\"Poisson Distribution -> Mean: {poisson_mean}, Variance: {poisson_variance}\")\n"
      ],
      "metadata": {
        "colab": {
          "base_uri": "https://localhost:8080/"
        },
        "id": "-ngbMM4o557E",
        "outputId": "90e89c66-0c70-49b7-ce92-2986b64fcd82"
      },
      "execution_count": 5,
      "outputs": [
        {
          "output_type": "stream",
          "name": "stdout",
          "text": [
            "Binomial Distribution -> Mean: 5.0, Variance: 2.502\n",
            "Poisson Distribution -> Mean: 3.9887, Variance: 3.8863723100000005\n"
          ]
        }
      ]
    },
    {
      "cell_type": "code",
      "source": [
        "# Q6.  Write a Python script to generate random numbers from a Gaussian (normal) distribution and compute the mean, variance, and standard deviation of the samples.\n",
        "\n",
        "\n",
        "import numpy as np\n",
        "\n",
        "def gaussian_statistics(mean, std_dev, n_samples=1000):\n",
        "    \"\"\"\n",
        "    Generate random samples from a Gaussian (normal) distribution and compute statistics.\n",
        "\n",
        "    Args:\n",
        "        mean (float): The mean of the Gaussian distribution.\n",
        "        std_dev (float): The standard deviation of the Gaussian distribution.\n",
        "        n_samples (int): Number of samples to generate.\n",
        "\n",
        "    Returns:\n",
        "        tuple: Mean, variance, and standard deviation of the generated samples.\n",
        "    \"\"\"\n",
        "    # Generate random samples\n",
        "    samples = np.random.normal(mean, std_dev, size=n_samples)\n",
        "\n",
        "    # Calculate statistics\n",
        "    sample_mean = np.mean(samples)\n",
        "    sample_variance = np.var(samples)\n",
        "    sample_std_dev = np.std(samples)\n",
        "\n",
        "    return sample_mean, sample_variance, sample_std_dev\n",
        "\n",
        "# Example usage\n",
        "mean, std_dev = 0, 1  # Standard normal distribution\n",
        "n_samples = 10000\n",
        "\n",
        "sample_mean, sample_variance, sample_std_dev = gaussian_statistics(mean, std_dev, n_samples)\n",
        "\n",
        "print(f\"Generated {n_samples} samples from N({mean}, {std_dev**2}):\")\n",
        "print(f\"Sample Mean: {sample_mean}\")\n",
        "print(f\"Sample Variance: {sample_variance}\")\n",
        "print(f\"Sample Standard Deviation: {sample_std_dev}\")\n"
      ],
      "metadata": {
        "colab": {
          "base_uri": "https://localhost:8080/"
        },
        "id": "FbpvSrsc6bwY",
        "outputId": "b0e27797-fe4b-41ea-e344-f915300fb7d4"
      },
      "execution_count": 6,
      "outputs": [
        {
          "output_type": "stream",
          "name": "stdout",
          "text": [
            "Generated 10000 samples from N(0, 1):\n",
            "Sample Mean: -0.007399519742497405\n",
            "Sample Variance: 1.0067381828776307\n",
            "Sample Standard Deviation: 1.0033634350910097\n"
          ]
        }
      ]
    },
    {
      "cell_type": "code",
      "source": [
        "# Q7.  Use seaborn library to load `tips` dataset. Find the following from the dataset for the columns `total_bill` and `tip`:\n",
        "# (i) Write a Python function that calculates their skewness.\n",
        "# (ii) Create a program that determines whether the columns exhibit positive skewness, negative skewness, or is\n",
        "# (iii) Write a function that calculates the covariance between two columns.\n",
        "# (iv) Implement a Python program that calculates the Pearson correlation coefficient between two columns.\n",
        "# (v) Write a script to visualize the correlation between two specific columns in a Pandas DataFrame using scatter plots\n",
        "\n",
        "\n",
        "# (i) Calculate Skewness : The skewness of a dataset indicates whether the data is symmetric, positively skewed, or negatively skewed.\n",
        "\n",
        "import seaborn as sns\n",
        "import pandas as pd\n",
        "from scipy.stats import skew\n",
        "\n",
        "# Load tips dataset\n",
        "tips = sns.load_dataset('tips')\n",
        "\n",
        "# Function to calculate skewness\n",
        "def calculate_skewness(column):\n",
        "    return skew(column)\n",
        "\n",
        "# Skewness for 'total_bill' and 'tip'\n",
        "total_bill_skewness = calculate_skewness(tips['total_bill'])\n",
        "tip_skewness = calculate_skewness(tips['tip'])\n",
        "\n",
        "print(f\"Skewness of 'total_bill': {total_bill_skewness:.2f}\")\n",
        "print(f\"Skewness of 'tip': {tip_skewness:.2f}\")\n"
      ],
      "metadata": {
        "colab": {
          "base_uri": "https://localhost:8080/"
        },
        "id": "D47dBeAQ6riK",
        "outputId": "a61e29c1-80e8-45b1-e66e-060696879fae"
      },
      "execution_count": 7,
      "outputs": [
        {
          "output_type": "stream",
          "name": "stdout",
          "text": [
            "Skewness of 'total_bill': 1.13\n",
            "Skewness of 'tip': 1.46\n"
          ]
        }
      ]
    },
    {
      "cell_type": "code",
      "source": [
        "# (ii) Determine Skewness Type\n",
        "# A column is:\n",
        "\n",
        "# Symmetric if skewness ≈ 0,\n",
        "# Positively skewed if skewness > 0,\n",
        "# Negatively skewed if skewness < 0.\n",
        "\n",
        "def skewness_type(skewness_value):\n",
        "    if skewness_value > 0:\n",
        "        return \"Positive Skewness\"\n",
        "    elif skewness_value < 0:\n",
        "        return \"Negative Skewness\"\n",
        "    else:\n",
        "        return \"Approximately Symmetric\"\n",
        "\n",
        "print(f\"'total_bill': {skewness_type(total_bill_skewness)}\")\n",
        "print(f\"'tip': {skewness_type(tip_skewness)}\")\n"
      ],
      "metadata": {
        "colab": {
          "base_uri": "https://localhost:8080/"
        },
        "id": "F_CHYVdu7N_W",
        "outputId": "c9d857ff-3258-49c4-bfe1-afa83ecdf8ba"
      },
      "execution_count": 8,
      "outputs": [
        {
          "output_type": "stream",
          "name": "stdout",
          "text": [
            "'total_bill': Positive Skewness\n",
            "'tip': Positive Skewness\n"
          ]
        }
      ]
    },
    {
      "cell_type": "code",
      "source": [
        "# (iii) Calculate Covariance\n",
        "\n",
        "def calculate_covariance(column1, column2):\n",
        "    return column1.cov(column2)\n",
        "\n",
        "# Covariance between 'total_bill' and 'tip'\n",
        "covariance = calculate_covariance(tips['total_bill'], tips['tip'])\n",
        "print(f\"Covariance between 'total_bill' and 'tip': {covariance:.2f}\")\n"
      ],
      "metadata": {
        "colab": {
          "base_uri": "https://localhost:8080/"
        },
        "id": "58oFxCy67VGU",
        "outputId": "513ed65a-2644-45f2-b577-696dcd5af3f2"
      },
      "execution_count": 9,
      "outputs": [
        {
          "output_type": "stream",
          "name": "stdout",
          "text": [
            "Covariance between 'total_bill' and 'tip': 8.32\n"
          ]
        }
      ]
    },
    {
      "cell_type": "code",
      "source": [
        "# (iv) Calculate Pearson Correlation Coefficient\n",
        "\n",
        "def calculate_pearson_correlation(column1, column2):\n",
        "    return column1.corr(column2)\n",
        "\n",
        "# Pearson correlation coefficient between 'total_bill' and 'tip'\n",
        "pearson_corr = calculate_pearson_correlation(tips['total_bill'], tips['tip'])\n",
        "print(f\"Pearson Correlation Coefficient between 'total_bill' and 'tip': {pearson_corr:.2f}\")\n"
      ],
      "metadata": {
        "colab": {
          "base_uri": "https://localhost:8080/"
        },
        "id": "wfbMnErV7ZP3",
        "outputId": "ec7afd23-3db2-4432-badb-9f47cbf0037a"
      },
      "execution_count": 10,
      "outputs": [
        {
          "output_type": "stream",
          "name": "stdout",
          "text": [
            "Pearson Correlation Coefficient between 'total_bill' and 'tip': 0.68\n"
          ]
        }
      ]
    },
    {
      "cell_type": "code",
      "source": [
        "# (v) Visualize Correlation Using Scatter Plot\n",
        "\n",
        "\n",
        "import matplotlib.pyplot as plt\n",
        "\n",
        "# Scatter plot to visualize correlation\n",
        "plt.figure(figsize=(8, 6))\n",
        "sns.scatterplot(x='total_bill', y='tip', data=tips)\n",
        "plt.title('Scatter Plot of Total Bill vs Tip')\n",
        "plt.xlabel('Total Bill')\n",
        "plt.ylabel('Tip')\n",
        "plt.grid(True)\n",
        "plt.show()\n"
      ],
      "metadata": {
        "colab": {
          "base_uri": "https://localhost:8080/",
          "height": 564
        },
        "id": "nyo1VG9A7e-l",
        "outputId": "38ff694c-f8ac-4c8c-a316-38ba08ba431c"
      },
      "execution_count": 11,
      "outputs": [
        {
          "output_type": "display_data",
          "data": {
            "text/plain": [
              "<Figure size 800x600 with 1 Axes>"
            ],
            "image/png": "[encoded data removed]"
          },
          "metadata": {}
        }
      ]
    },
    {
      "cell_type": "code",
      "source": [
        "# Q8.  Write a Python function to calculate the probability density function (PDF) of a continuous random variable for a given normal distribution.\n",
        "\n",
        "\n",
        "import math\n",
        "\n",
        "def normal_pdf(x, mean, std_dev):\n",
        "    \"\"\"\n",
        "    Calculate the probability density function (PDF) of a normal distribution.\n",
        "\n",
        "    Args:\n",
        "        x (float): The point at which to calculate the PDF.\n",
        "        mean (float): The mean (μ) of the normal distribution.\n",
        "        std_dev (float): The standard deviation (σ) of the normal distribution.\n",
        "\n",
        "    Returns:\n",
        "        float: The PDF value at x.\n",
        "    \"\"\"\n",
        "    coefficient = 1 / (std_dev * math.sqrt(2 * math.pi))\n",
        "    exponent = -((x - mean) ** 2) / (2 * std_dev ** 2)\n",
        "    return coefficient * math.exp(exponent)\n",
        "\n",
        "# Example usage\n",
        "mean = 0  # Mean (μ)\n",
        "std_dev = 1  # Standard deviation (σ)\n",
        "x = 1  # Value at which to calculate the PDF\n",
        "\n",
        "pdf_value = normal_pdf(x, mean, std_dev)\n",
        "print(f\"The PDF value of the normal distribution at x={x} is {pdf_value:.5f}\")\n"
      ],
      "metadata": {
        "colab": {
          "base_uri": "https://localhost:8080/"
        },
        "id": "qusjU00O7kS-",
        "outputId": "baad5915-595d-4dff-9824-b7edd5ca3500"
      },
      "execution_count": 12,
      "outputs": [
        {
          "output_type": "stream",
          "name": "stdout",
          "text": [
            "The PDF value of the normal distribution at x=1 is 0.24197\n"
          ]
        }
      ]
    },
    {
      "cell_type": "code",
      "source": [
        "# Q9.  Create a program to calculate the cumulative distribution function (CDF) of exponential distribution.\n",
        "\n",
        "\n",
        "import math\n",
        "\n",
        "def exponential_cdf(x, rate):\n",
        "    \"\"\"\n",
        "    Calculate the cumulative distribution function (CDF) of an exponential distribution.\n",
        "\n",
        "    Args:\n",
        "        x (float): The point at which to calculate the CDF.\n",
        "        rate (float): The rate parameter (λ) of the exponential distribution.\n",
        "\n",
        "    Returns:\n",
        "        float: The CDF value at x.\n",
        "    \"\"\"\n",
        "    if x < 0:\n",
        "        return 0.0\n",
        "    return 1 - math.exp(-rate * x)\n",
        "\n",
        "# Example usage\n",
        "rate = 1.5  # Rate parameter λ\n",
        "x_values = [0, 0.5, 1, 2, 5]  # Points at which to calculate the CDF\n",
        "\n",
        "print(f\"CDF of Exponential Distribution with rate λ = {rate}:\")\n",
        "for x in x_values:\n",
        "    cdf_value = exponential_cdf(x, rate)\n",
        "    print(f\"F({x}) = {cdf_value:.4f}\")\n"
      ],
      "metadata": {
        "colab": {
          "base_uri": "https://localhost:8080/"
        },
        "id": "RyMck8067vBx",
        "outputId": "c14fd210-2751-4282-c9cf-d51ceb6a2349"
      },
      "execution_count": 13,
      "outputs": [
        {
          "output_type": "stream",
          "name": "stdout",
          "text": [
            "CDF of Exponential Distribution with rate λ = 1.5:\n",
            "F(0) = 0.0000\n",
            "F(0.5) = 0.5276\n",
            "F(1) = 0.7769\n",
            "F(2) = 0.9502\n",
            "F(5) = 0.9994\n"
          ]
        }
      ]
    },
    {
      "cell_type": "code",
      "source": [
        "# Q10.  Write a Python function to calculate the probability mass function (PMF) of Poisson distribution.\n",
        "\n",
        "import math\n",
        "\n",
        "def poisson_pmf(k, lambd):\n",
        "    \"\"\"\n",
        "    Calculate the Probability Mass Function (PMF) of a Poisson distribution.\n",
        "\n",
        "    Args:\n",
        "        k (int): The number of events (k = 0, 1, 2, ...).\n",
        "        lambd (float): The rate parameter (λ) of the Poisson distribution.\n",
        "\n",
        "    Returns:\n",
        "        float: The PMF value at k.\n",
        "    \"\"\"\n",
        "    if k < 0:\n",
        "        return 0  # PMF is only defined for non-negative integers\n",
        "    return (lambd ** k * math.exp(-lambd)) / math.factorial(k)\n",
        "\n",
        "# Example usage\n",
        "lambda_param = 3.5  # Rate parameter (λ)\n",
        "k_values = [0, 1, 2, 3, 4, 5]  # Number of events (k)\n",
        "\n",
        "print(f\"Poisson PMF for λ = {lambda_param}:\")\n",
        "for k in k_values:\n",
        "    pmf_value = poisson_pmf(k, lambda_param)\n",
        "    print(f\"P(X = {k}) = {pmf_value:.4f}\")\n"
      ],
      "metadata": {
        "colab": {
          "base_uri": "https://localhost:8080/"
        },
        "id": "41MQqX2F75zW",
        "outputId": "83a4e00c-3393-4010-be23-b7eefbb4f127"
      },
      "execution_count": 14,
      "outputs": [
        {
          "output_type": "stream",
          "name": "stdout",
          "text": [
            "Poisson PMF for λ = 3.5:\n",
            "P(X = 0) = 0.0302\n",
            "P(X = 1) = 0.1057\n",
            "P(X = 2) = 0.1850\n",
            "P(X = 3) = 0.2158\n",
            "P(X = 4) = 0.1888\n",
            "P(X = 5) = 0.1322\n"
          ]
        }
      ]
    },
    {
      "cell_type": "code",
      "source": [
        "# Q11.  A company wants to test if a new website layout leads to a higher conversion rate (percentage of visitors who make a purchase). They collect data from the old and new layouts to compare.\n",
        "# To generate the data use the following command:\n",
        "# ```python\n",
        "# import numpy as np\n",
        "# 50 purchases out of 1000 visitors\n",
        "# old_layout = np.array([1] * 50 + [0] * 950)\n",
        "# 70 purchases out of 1000 visitors\n",
        "# new_layout = np.array([1] * 70 + [0] * 930)\n",
        "# ```\n",
        "# Apply z-test to find which layout is successful\n",
        "\n",
        "\n",
        "\n",
        "import numpy as np\n",
        "import math\n",
        "from scipy.stats import norm\n",
        "\n",
        "# Data generation\n",
        "old_layout = np.array([1] * 50 + [0] * 950)  # 50 purchases, 1000 visitors\n",
        "new_layout = np.array([1] * 70 + [0] * 930)  # 70 purchases, 1000 visitors\n",
        "\n",
        "# Sample sizes and successes\n",
        "n_old = len(old_layout)\n",
        "n_new = len(new_layout)\n",
        "x_old = np.sum(old_layout)\n",
        "x_new = np.sum(new_layout)\n",
        "\n",
        "# Sample proportions\n",
        "p_old = x_old / n_old\n",
        "p_new = x_new / n_new\n",
        "\n",
        "# Pooled proportion\n",
        "p = (x_old + x_new) / (n_old + n_new)\n",
        "\n",
        "# Z-test statistic\n",
        "z = (p_new - p_old) / math.sqrt(p * (1 - p) * (1 / n_old + 1 / n_new))\n",
        "\n",
        "# P-value for the z-test (one-tailed test, since we're testing for higher conversion rate)\n",
        "p_value = 1 - norm.cdf(z)\n",
        "\n",
        "# Output the results\n",
        "print(f\"Z-test statistic: {z:.4f}\")\n",
        "print(f\"P-value: {p_value:.4f}\")\n",
        "\n",
        "# Interpret the result\n",
        "alpha = 0.05  # Significance level\n",
        "if p_value < alpha:\n",
        "    print(\"Reject the null hypothesis: The new layout has a significantly higher conversion rate.\")\n",
        "else:\n",
        "    print(\"Fail to reject the null hypothesis: No significant difference between the layouts.\")\n"
      ],
      "metadata": {
        "colab": {
          "base_uri": "https://localhost:8080/"
        },
        "id": "bQLephKn8C8m",
        "outputId": "2acd6bbc-54f0-4892-d444-5c0549819719"
      },
      "execution_count": 15,
      "outputs": [
        {
          "output_type": "stream",
          "name": "stdout",
          "text": [
            "Z-test statistic: 1.8831\n",
            "P-value: 0.0298\n",
            "Reject the null hypothesis: The new layout has a significantly higher conversion rate.\n"
          ]
        }
      ]
    },
    {
      "cell_type": "code",
      "source": [
        "# Q12.  A tutoring service claims that its program improves students' exam scores. A sample of students who participated in the program was taken, and their scores before and after the program were recorded.\n",
        "# Use the below code to generate samples of respective arrays of marks:\n",
        "# ```python\n",
        "# before_program = np.array([75, 80, 85, 70, 90, 78, 92, 88, 82, 87])\n",
        "# after_program = np.array([80, 85, 90, 80, 92, 80, 95, 90, 85, 88])\n",
        "# ```\n",
        "# Use z-test to find if the claims made by tutor are true or false\n",
        "\n",
        "\n",
        "\n",
        "import numpy as np\n",
        "import math\n",
        "from scipy.stats import norm\n",
        "\n",
        "# Data for before and after the tutoring program\n",
        "before_program = np.array([75, 80, 85, 70, 90, 78, 92, 88, 82, 87])\n",
        "after_program = np.array([80, 85, 90, 80, 92, 80, 95, 90, 85, 88])\n",
        "\n",
        "# Calculate the differences\n",
        "differences = after_program - before_program\n",
        "\n",
        "# Sample size\n",
        "n = len(differences)\n",
        "\n",
        "# Sample mean and standard deviation of the differences\n",
        "mean_diff = np.mean(differences)\n",
        "std_diff = np.std(differences, ddof=1)\n",
        "\n",
        "# Z-test statistic\n",
        "z = mean_diff / (std_diff / math.sqrt(n))\n",
        "\n",
        "# P-value for the z-test (one-tailed test, since we're testing for improvement)\n",
        "p_value = 1 - norm.cdf(z)\n",
        "\n",
        "# Output the results\n",
        "print(f\"Z-test statistic: {z:.4f}\")\n",
        "print(f\"P-value: {p_value:.4f}\")\n",
        "\n",
        "# Interpret the result\n",
        "alpha = 0.05  # Significance level\n",
        "if p_value < alpha:\n",
        "    print(\"Reject the null hypothesis: The tutoring program improves exam scores.\")\n",
        "else:\n",
        "    print(\"Fail to reject the null hypothesis: No significant improvement from the tutoring program.\")\n"
      ],
      "metadata": {
        "colab": {
          "base_uri": "https://localhost:8080/"
        },
        "id": "t3UiPxdp8ZV6",
        "outputId": "7ef2839e-955a-4300-b175-8aeee790c380"
      },
      "execution_count": 16,
      "outputs": [
        {
          "output_type": "stream",
          "name": "stdout",
          "text": [
            "Z-test statistic: 4.5932\n",
            "P-value: 0.0000\n",
            "Reject the null hypothesis: The tutoring program improves exam scores.\n"
          ]
        }
      ]
    },
    {
      "cell_type": "code",
      "source": [
        "# Q13.  A pharmaceutical company wants to determine if a new drug is effective in reducing blood pressure. They conduct a study and record blood pressure measurements before and after administering the drug.\n",
        "# Use the below code to generate samples of respective arrays of blood pressure:\n",
        "# ```python\n",
        "# before_drug = np.array([145, 150, 140, 135, 155, 160, 152, 148, 130, 138])\n",
        "# after_drug = np.array([130, 140, 132, 128, 145, 148, 138, 136, 125, 130])\n",
        "# ```\n",
        "# Implement z-test to find if the drug really works or not.\n",
        "\n",
        "\n",
        "\n",
        "import numpy as np\n",
        "import math\n",
        "from scipy.stats import norm\n",
        "\n",
        "# Data for before and after the drug administration\n",
        "before_drug = np.array([145, 150, 140, 135, 155, 160, 152, 148, 130, 138])\n",
        "after_drug = np.array([130, 140, 132, 128, 145, 148, 138, 136, 125, 130])\n",
        "\n",
        "# Calculate the differences (after - before)\n",
        "differences = after_drug - before_drug\n",
        "\n",
        "# Sample size\n",
        "n = len(differences)\n",
        "\n",
        "# Sample mean and standard deviation of the differences\n",
        "mean_diff = np.mean(differences)\n",
        "std_diff = np.std(differences, ddof=1)\n",
        "\n",
        "# Z-test statistic\n",
        "z = mean_diff / (std_diff / math.sqrt(n))\n",
        "\n",
        "# P-value for the z-test (one-tailed test, since we're testing for a decrease in blood pressure)\n",
        "p_value = norm.cdf(z)  # since we expect a decrease, we use norm.cdf for the one-tailed test\n",
        "\n",
        "# Output the results\n",
        "print(f\"Z-test statistic: {z:.4f}\")\n",
        "print(f\"P-value: {p_value:.4f}\")\n",
        "\n",
        "# Interpret the result\n",
        "alpha = 0.05  # Significance level\n",
        "if p_value < alpha:\n",
        "    print(\"Reject the null hypothesis: The drug is effective in reducing blood pressure.\")\n",
        "else:\n",
        "    print(\"Fail to reject the null hypothesis: No significant effect of the drug on blood pressure.\")\n"
      ],
      "metadata": {
        "colab": {
          "base_uri": "https://localhost:8080/"
        },
        "id": "r6htue5-8kYN",
        "outputId": "e80c033e-64f7-4ab5-b21c-97628526bd6e"
      },
      "execution_count": 17,
      "outputs": [
        {
          "output_type": "stream",
          "name": "stdout",
          "text": [
            "Z-test statistic: -10.0499\n",
            "P-value: 0.0000\n",
            "Reject the null hypothesis: The drug is effective in reducing blood pressure.\n"
          ]
        }
      ]
    },
    {
      "cell_type": "code",
      "source": [
        "# Q14. A customer service department claims that their average response time is less than 5 minutes. A sample of recent customer interactions was taken, and the response times were recorded.\n",
        "# Implement the below code to generate the array of response time:\n",
        "# ```python\n",
        "# response_times = np.array([4.3, 3.8, 5.1, 4.9, 4.7, 4.2, 5.2, 4.5, 4.6, 4.4])\n",
        "# ```\n",
        "# Implement z-test to find the claims made by customer service department are tru or false.\n",
        "\n",
        "\n",
        "\n",
        "import numpy as np\n",
        "import math\n",
        "from scipy.stats import norm\n",
        "\n",
        "# Data for the response times\n",
        "response_times = np.array([4.3, 3.8, 5.1, 4.9, 4.7, 4.2, 5.2, 4.5, 4.6, 4.4])\n",
        "\n",
        "# Population mean (claimed average response time)\n",
        "mu_0 = 5\n",
        "\n",
        "# Sample size\n",
        "n = len(response_times)\n",
        "\n",
        "# Sample mean and standard deviation\n",
        "sample_mean = np.mean(response_times)\n",
        "sample_std = np.std(response_times, ddof=1)\n",
        "\n",
        "# Z-test statistic\n",
        "z = (sample_mean - mu_0) / (sample_std / math.sqrt(n))\n",
        "\n",
        "# P-value for the z-test (one-tailed test, since we're testing if the mean is less than 5)\n",
        "p_value = norm.cdf(z)\n",
        "\n",
        "# Output the results\n",
        "print(f\"Z-test statistic: {z:.4f}\")\n",
        "print(f\"P-value: {p_value:.4f}\")\n",
        "\n",
        "# Interpret the result\n",
        "alpha = 0.05  # Significance level\n",
        "if p_value < alpha:\n",
        "    print(\"Reject the null hypothesis: The average response time is less than 5 minutes.\")\n",
        "else:\n",
        "    print(\"Fail to reject the null hypothesis: No significant evidence that the average response time is less than 5 minutes.\")\n"
      ],
      "metadata": {
        "colab": {
          "base_uri": "https://localhost:8080/"
        },
        "id": "HaFjnA_F8yNG",
        "outputId": "39ccf32f-1bc1-4468-8d8d-288eb98a146e"
      },
      "execution_count": 18,
      "outputs": [
        {
          "output_type": "stream",
          "name": "stdout",
          "text": [
            "Z-test statistic: -3.1845\n",
            "P-value: 0.0007\n",
            "Reject the null hypothesis: The average response time is less than 5 minutes.\n"
          ]
        }
      ]
    },
    {
      "cell_type": "code",
      "source": [
        "# Q15.  A company is testing two different website layouts to see which one leads to higher click-through rates.\n",
        "# Write a Python function to perform an A/B test analysis, including calculating the t-statistic, degrees of freedom, and p-value.\n",
        "# Use the following data:\n",
        "# ```python\n",
        "# layout_a_clicks = [28, 32, 33, 29, 31, 34, 30, 35, 36, 37]\n",
        "# layout_b_clicks = [40, 41, 38, 42, 39, 44, 43, 41, 45, 47]\n",
        "\n",
        "\n",
        "\n",
        "import numpy as np\n",
        "import scipy.stats as stats\n",
        "\n",
        "# Data for layout A and layout B\n",
        "layout_a_clicks = [28, 32, 33, 29, 31, 34, 30, 35, 36, 37]\n",
        "layout_b_clicks = [40, 41, 38, 42, 39, 44, 43, 41, 45, 47]\n",
        "\n",
        "# Sample sizes\n",
        "n_a = len(layout_a_clicks)\n",
        "n_b = len(layout_b_clicks)\n",
        "\n",
        "# Sample means\n",
        "mean_a = np.mean(layout_a_clicks)\n",
        "mean_b = np.mean(layout_b_clicks)\n",
        "\n",
        "# Sample standard deviations\n",
        "std_a = np.std(layout_a_clicks, ddof=1)\n",
        "std_b = np.std(layout_b_clicks, ddof=1)\n",
        "\n",
        "# Calculate t-statistic\n",
        "t_stat = (mean_a - mean_b) / np.sqrt((std_a**2 / n_a) + (std_b**2 / n_b))\n",
        "\n",
        "# Degrees of freedom (Welch-Satterthwaite equation)\n",
        "df = ((std_a**2 / n_a + std_b**2 / n_b)**2) / (((std_a**2 / n_a)**2 / (n_a - 1)) + ((std_b**2 / n_b)**2 / (n_b - 1)))\n",
        "\n",
        "# Calculate p-value for two-tailed test\n",
        "p_value = 2 * (1 - stats.t.cdf(abs(t_stat), df))\n",
        "\n",
        "# Output the results\n",
        "print(f\"T-statistic: {t_stat:.4f}\")\n",
        "print(f\"Degrees of freedom: {df:.4f}\")\n",
        "print(f\"P-value: {p_value:.4f}\")\n",
        "\n",
        "# Interpret the result\n",
        "alpha = 0.05  # Significance level\n",
        "if p_value < alpha:\n",
        "    print(\"Reject the null hypothesis: There is a significant difference between the click-through rates.\")\n",
        "else:\n",
        "    print(\"Fail to reject the null hypothesis: No significant difference between the click-through rates.\")\n"
      ],
      "metadata": {
        "colab": {
          "base_uri": "https://localhost:8080/"
        },
        "id": "d7stBRUw881h",
        "outputId": "617927c9-59b9-4072-d8f9-0f73771e6aa6"
      },
      "execution_count": 19,
      "outputs": [
        {
          "output_type": "stream",
          "name": "stdout",
          "text": [
            "T-statistic: -7.2981\n",
            "Degrees of freedom: 17.8799\n",
            "P-value: 0.0000\n",
            "Reject the null hypothesis: There is a significant difference between the click-through rates.\n"
          ]
        }
      ]
    },
    {
      "cell_type": "code",
      "source": [
        "# Q16.  A pharmaceutical company wants to determine if a new drug is more effective than an existing drug in reducing cholesterol levels. Create a program to analyze the clinical trial data and calculate the t\n",
        "# Use the following data of cholestrol level:\n",
        "# ```python\n",
        "# existing_drug_levels = [180, 182, 175, 185, 178, 176, 172, 184, 179, 183]\n",
        "# new_drug_levels = [170, 172, 165, 168, 175, 173, 170, 178, 172, 176]\n",
        "\n",
        "\n",
        "\n",
        "import numpy as np\n",
        "import scipy.stats as stats\n",
        "\n",
        "# Data for cholesterol levels with the existing drug and new drug\n",
        "existing_drug_levels = [180, 182, 175, 185, 178, 176, 172, 184, 179, 183]\n",
        "new_drug_levels = [170, 172, 165, 168, 175, 173, 170, 178, 172, 176]\n",
        "\n",
        "# Sample sizes\n",
        "n_existing = len(existing_drug_levels)\n",
        "n_new = len(new_drug_levels)\n",
        "\n",
        "# Sample means\n",
        "mean_existing = np.mean(existing_drug_levels)\n",
        "mean_new = np.mean(new_drug_levels)\n",
        "\n",
        "# Sample standard deviations\n",
        "std_existing = np.std(existing_drug_levels, ddof=1)\n",
        "std_new = np.std(new_drug_levels, ddof=1)\n",
        "\n",
        "# Calculate the t-statistic for unequal variances (Welch's t-test)\n",
        "t_stat = (mean_new - mean_existing) / np.sqrt((std_new**2 / n_new) + (std_existing**2 / n_existing))\n",
        "\n",
        "# Calculate degrees of freedom using Welch-Satterthwaite equation\n",
        "df = ((std_new**2 / n_new + std_existing**2 / n_existing)**2) / (((std_new**2 / n_new)**2 / (n_new - 1)) + ((std_existing**2 / n_existing)**2 / (n_existing - 1)))\n",
        "\n",
        "# Calculate the p-value (one-tailed test since we are testing if the new drug reduces cholesterol more)\n",
        "p_value = stats.t.cdf(t_stat, df)\n",
        "\n",
        "# Output the results\n",
        "print(f\"T-statistic: {t_stat:.4f}\")\n",
        "print(f\"Degrees of freedom: {df:.4f}\")\n",
        "print(f\"P-value: {p_value:.4f}\")\n",
        "\n",
        "# Interpret the result\n",
        "alpha = 0.05  # Significance level\n",
        "if p_value < alpha:\n",
        "    print(\"Reject the null hypothesis: The new drug is more effective in reducing cholesterol.\")\n",
        "else:\n",
        "    print(\"Fail to reject the null hypothesis: No significant evidence that the new drug is more effective.\")\n"
      ],
      "metadata": {
        "colab": {
          "base_uri": "https://localhost:8080/"
        },
        "id": "IZBoCics9KIo",
        "outputId": "ec74d6e9-0b9c-428b-a4d9-bd9404426aec"
      },
      "execution_count": 20,
      "outputs": [
        {
          "output_type": "stream",
          "name": "stdout",
          "text": [
            "T-statistic: -4.1405\n",
            "Degrees of freedom: 17.8668\n",
            "P-value: 0.0003\n",
            "Reject the null hypothesis: The new drug is more effective in reducing cholesterol.\n"
          ]
        }
      ]
    },
    {
      "cell_type": "code",
      "source": [
        "# Q17.  A school district introduces an educational intervention program to improve math scores. Write a Python function to analyze pre- and post-intervention test scores, calculating the t-statistic and p-value to determine if the intervention had a significant impact.\n",
        "# Use the following data of test score:\n",
        "# ```python\n",
        "# pre_intervention_scores = [80, 85, 90, 75, 88, 82, 92, 78, 85, 87]\n",
        "# post_intervention_scores = [90, 92, 88, 92, 95, 91, 96, 93, 89, 93]\n",
        "\n",
        "\n",
        "\n",
        "import numpy as np\n",
        "import scipy.stats as stats\n",
        "\n",
        "# Data for test scores before and after the intervention\n",
        "pre_intervention_scores = [80, 85, 90, 75, 88, 82, 92, 78, 85, 87]\n",
        "post_intervention_scores = [90, 92, 88, 92, 95, 91, 96, 93, 89, 93]\n",
        "\n",
        "# Calculate the differences between post and pre intervention scores\n",
        "differences = np.array(post_intervention_scores) - np.array(pre_intervention_scores)\n",
        "\n",
        "# Sample size\n",
        "n = len(differences)\n",
        "\n",
        "# Calculate the mean and standard deviation of the differences\n",
        "mean_diff = np.mean(differences)\n",
        "std_diff = np.std(differences, ddof=1)\n",
        "\n",
        "# Calculate the t-statistic\n",
        "t_stat = mean_diff / (std_diff / np.sqrt(n))\n",
        "\n",
        "# Degrees of freedom (n - 1)\n",
        "df = n - 1\n",
        "\n",
        "# Calculate the p-value for a two-tailed test\n",
        "p_value = 2 * (1 - stats.t.cdf(abs(t_stat), df))\n",
        "\n",
        "# Output the results\n",
        "print(f\"T-statistic: {t_stat:.4f}\")\n",
        "print(f\"Degrees of freedom: {df}\")\n",
        "print(f\"P-value: {p_value:.4f}\")\n",
        "\n",
        "# Interpret the result\n",
        "alpha = 0.05  # Significance level\n",
        "if p_value < alpha:\n",
        "    print(\"Reject the null hypothesis: The intervention had a significant impact on test scores.\")\n",
        "else:\n",
        "    print(\"Fail to reject the null hypothesis: No significant impact of the intervention on test scores.\")\n"
      ],
      "metadata": {
        "colab": {
          "base_uri": "https://localhost:8080/"
        },
        "id": "AHY_8Cha9T4x",
        "outputId": "e06b2ea7-5406-41cc-d10d-b0ef434b7bc4"
      },
      "execution_count": 21,
      "outputs": [
        {
          "output_type": "stream",
          "name": "stdout",
          "text": [
            "T-statistic: 4.4284\n",
            "Degrees of freedom: 9\n",
            "P-value: 0.0017\n",
            "Reject the null hypothesis: The intervention had a significant impact on test scores.\n"
          ]
        }
      ]
    },
    {
      "cell_type": "code",
      "source": [
        "# Q18.  An HR department wants to investigate if there's a gender-based salary gap within the company. Develop a program to analyze salary data, calculate the t-statistic, and determine if there's a statistically significant difference between the average salaries of male and female employees.\n",
        "# Use the below code to generate synthetic data:\n",
        "# ```python\n",
        "# Generate synthetic salary data for male and female employees\n",
        "# np.random.seed(0)  # For reproducibility\n",
        "# male_salaries = np.random.normal(loc=50000, scale=10000, size=20)\n",
        "# female_salaries = np.random.normal(loc=55000, scale=9000, size=20\n",
        "\n",
        "\n",
        "import numpy as np\n",
        "import scipy.stats as stats\n",
        "\n",
        "# Generate synthetic salary data for male and female employees\n",
        "np.random.seed(0)  # For reproducibility\n",
        "male_salaries = np.random.normal(loc=50000, scale=10000, size=20)\n",
        "female_salaries = np.random.normal(loc=55000, scale=9000, size=20)\n",
        "\n",
        "# Sample sizes\n",
        "n_male = len(male_salaries)\n",
        "n_female = len(female_salaries)\n",
        "\n",
        "# Sample means\n",
        "mean_male = np.mean(male_salaries)\n",
        "mean_female = np.mean(female_salaries)\n",
        "\n",
        "# Sample standard deviations\n",
        "std_male = np.std(male_salaries, ddof=1)\n",
        "std_female = np.std(female_salaries, ddof=1)\n",
        "\n",
        "# Calculate the t-statistic for unequal variances (Welch's t-test)\n",
        "t_stat = (mean_male - mean_female) / np.sqrt((std_male**2 / n_male) + (std_female**2 / n_female))\n",
        "\n",
        "# Calculate degrees of freedom using Welch-Satterthwaite equation\n",
        "df = ((std_male**2 / n_male + std_female**2 / n_female)**2) / (((std_male**2 / n_male)**2 / (n_male - 1)) + ((std_female**2 / n_female)**2 / (n_female - 1)))\n",
        "\n",
        "# Calculate the p-value (two-tailed test)\n",
        "p_value = 2 * (1 - stats.t.cdf(abs(t_stat), df))\n",
        "\n",
        "# Output the results\n",
        "print(f\"T-statistic: {t_stat:.4f}\")\n",
        "print(f\"Degrees of freedom: {df:.4f}\")\n",
        "print(f\"P-value: {p_value:.4f}\")\n",
        "\n",
        "# Interpret the result\n",
        "alpha = 0.05  # Significance level\n",
        "if p_value < alpha:\n",
        "    print(\"Reject the null hypothesis: There is a significant gender-based salary gap.\")\n",
        "else:\n",
        "    print(\"Fail to reject the null hypothesis: No significant gender-based salary gap.\")\n"
      ],
      "metadata": {
        "colab": {
          "base_uri": "https://localhost:8080/"
        },
        "id": "sJ0VEr9l9gAi",
        "outputId": "77dead9d-499c-47bb-e74d-8dd77947ef69"
      },
      "execution_count": 22,
      "outputs": [
        {
          "output_type": "stream",
          "name": "stdout",
          "text": [
            "T-statistic: 0.0611\n",
            "Degrees of freedom: 36.1668\n",
            "P-value: 0.9516\n",
            "Fail to reject the null hypothesis: No significant gender-based salary gap.\n"
          ]
        }
      ]
    },
    {
      "cell_type": "code",
      "source": [
        "# Q19.  A manufacturer produces two different versions of a product and wants to compare their quality scores.\n",
        "# Create a Python function to analyze quality assessment data, calculate the t-statistic, and decide\n",
        "# whether there's a significant difference in quality between the two versions.\n",
        "# Use the following data:\n",
        "# ```python\n",
        "# version1_scores = [85, 88, 82, 89, 87, 84, 90, 88, 85, 86, 91, 83, 87, 84, 89, 86, 84, 88, 85, 86, 89, 90, 87, 88, 85]\n",
        "# version2_scores = [80, 78, 83, 81, 79, 82, 76, 80, 78, 81, 77, 82, 80, 79, 82, 79, 80, 81, 79, 82, 79, 78, 80, 81, 82]\n",
        "\n",
        "\n",
        "\n",
        "import numpy as np\n",
        "import scipy.stats as stats\n",
        "\n",
        "# Data for quality scores of version 1 and version 2\n",
        "version1_scores = [85, 88, 82, 89, 87, 84, 90, 88, 85, 86, 91, 83, 87, 84, 89, 86, 84, 88, 85, 86, 89, 90, 87, 88, 85]\n",
        "version2_scores = [80, 78, 83, 81, 79, 82, 76, 80, 78, 81, 77, 82, 80, 79, 82, 79, 80, 81, 79, 82, 79, 78, 80, 81, 82]\n",
        "\n",
        "# Sample sizes\n",
        "n1 = len(version1_scores)\n",
        "n2 = len(version2_scores)\n",
        "\n",
        "# Sample means\n",
        "mean1 = np.mean(version1_scores)\n",
        "mean2 = np.mean(version2_scores)\n",
        "\n",
        "# Sample standard deviations\n",
        "std1 = np.std(version1_scores, ddof=1)\n",
        "std2 = np.std(version2_scores, ddof=1)\n",
        "\n",
        "# Calculate the t-statistic for unequal variances (Welch's t-test)\n",
        "t_stat = (mean1 - mean2) / np.sqrt((std1**2 / n1) + (std2**2 / n2))\n",
        "\n",
        "# Calculate degrees of freedom using Welch-Satterthwaite equation\n",
        "df = ((std1**2 / n1 + std2**2 / n2)**2) / (((std1**2 / n1)**2 / (n1 - 1)) + ((std2**2 / n2)**2 / (n2 - 1)))\n",
        "\n",
        "# Calculate the p-value (two-tailed test)\n",
        "p_value = 2 * (1 - stats.t.cdf(abs(t_stat), df))\n",
        "\n",
        "# Output the results\n",
        "print(f\"T-statistic: {t_stat:.4f}\")\n",
        "print(f\"Degrees of freedom: {df:.4f}\")\n",
        "print(f\"P-value: {p_value:.4f}\")\n",
        "\n",
        "# Interpret the result\n",
        "alpha = 0.05  # Significance level\n",
        "if p_value < alpha:\n",
        "    print(\"Reject the null hypothesis: There is a significant difference in quality scores between the two versions.\")\n",
        "else:\n",
        "    print(\"Fail to reject the null hypothesis: No significant difference in quality scores between the two versions.\")\n"
      ],
      "metadata": {
        "colab": {
          "base_uri": "https://localhost:8080/"
        },
        "id": "I0zkME3g9u8Q",
        "outputId": "4a007b77-ca10-4172-dca2-d3fc8583df87"
      },
      "execution_count": 23,
      "outputs": [
        {
          "output_type": "stream",
          "name": "stdout",
          "text": [
            "T-statistic: 11.3258\n",
            "Degrees of freedom: 44.4706\n",
            "P-value: 0.0000\n",
            "Reject the null hypothesis: There is a significant difference in quality scores between the two versions.\n"
          ]
        }
      ]
    },
    {
      "cell_type": "code",
      "source": [
        "# Q20. A restaurant chain collects customer satisfaction scores for two different branches. Write a program to analyze the scores, calculate the t-statistic, and determine if there's a statistically significant difference in customer satisfaction between the branches.\n",
        "# Use the below data of scores:\n",
        "# ```python\n",
        "# branch_a_scores = [4, 5, 3, 4, 5, 4, 5, 3, 4, 4, 5, 4, 4, 3, 4, 5, 5, 4, 3, 4, 5, 4, 3, 5, 4, 4, 5, 3, 4, 5, 4]\n",
        "# branch_b_scores = [3, 4, 2, 3, 4, 3, 4, 2, 3, 3, 4, 3, 3, 2, 3, 4, 4, 3, 2, 3, 4, 3, 2, 4, 3, 3, 4, 2, 3, 4, 3]\n",
        "\n",
        "\n",
        "\n",
        "import numpy as np\n",
        "import scipy.stats as stats\n",
        "\n",
        "# Data for customer satisfaction scores of branch A and branch B\n",
        "branch_a_scores = [4, 5, 3, 4, 5, 4, 5, 3, 4, 4, 5, 4, 4, 3, 4, 5, 5, 4, 3, 4, 5, 4, 3, 5, 4, 4, 5, 3, 4, 5, 4]\n",
        "branch_b_scores = [3, 4, 2, 3, 4, 3, 4, 2, 3, 3, 4, 3, 3, 2, 3, 4, 4, 3, 2, 3, 4, 3, 2, 4, 3, 3, 4, 2, 3, 4, 3]\n",
        "\n",
        "# Sample sizes\n",
        "n1 = len(branch_a_scores)\n",
        "n2 = len(branch_b_scores)\n",
        "\n",
        "# Sample means\n",
        "mean1 = np.mean(branch_a_scores)\n",
        "mean2 = np.mean(branch_b_scores)\n",
        "\n",
        "# Sample standard deviations\n",
        "std1 = np.std(branch_a_scores, ddof=1)\n",
        "std2 = np.std(branch_b_scores, ddof=1)\n",
        "\n",
        "# Calculate the t-statistic for unequal variances (Welch's t-test)\n",
        "t_stat = (mean1 - mean2) / np.sqrt((std1**2 / n1) + (std2**2 / n2))\n",
        "\n",
        "# Calculate degrees of freedom using Welch-Satterthwaite equation\n",
        "df = ((std1**2 / n1 + std2**2 / n2)**2) / (((std1**2 / n1)**2 / (n1 - 1)) + ((std2**2 / n2)**2 / (n2 - 1)))\n",
        "\n",
        "# Calculate the p-value (two-tailed test)\n",
        "p_value = 2 * (1 - stats.t.cdf(abs(t_stat), df))\n",
        "\n",
        "# Output the results\n",
        "print(f\"T-statistic: {t_stat:.4f}\")\n",
        "print(f\"Degrees of freedom: {df:.4f}\")\n",
        "print(f\"P-value: {p_value:.4f}\")\n",
        "\n",
        "# Interpret the result\n",
        "alpha = 0.05  # Significance level\n",
        "if p_value < alpha:\n",
        "    print(\"Reject the null hypothesis: There is a significant difference in customer satisfaction between the branches.\")\n",
        "else:\n",
        "    print(\"Fail to reject the null hypothesis: No significant difference in customer satisfaction between the branches.\")\n"
      ],
      "metadata": {
        "colab": {
          "base_uri": "https://localhost:8080/"
        },
        "id": "yQOswauc9jeH",
        "outputId": "fb168226-2f26-41e1-dbcd-2ac875250e4b"
      },
      "execution_count": 24,
      "outputs": [
        {
          "output_type": "stream",
          "name": "stdout",
          "text": [
            "T-statistic: 5.4801\n",
            "Degrees of freedom: 60.0000\n",
            "P-value: 0.0000\n",
            "Reject the null hypothesis: There is a significant difference in customer satisfaction between the branches.\n"
          ]
        }
      ]
    },
    {
      "cell_type": "code",
      "source": [
        "# Q21. A political analyst wants to determine if there is a significant association between age groups and voter preferences (Candidate A or Candidate B). They collect data from a sample of 500 voters and classify them into different age groups and candidate preferences. Perform a Chi-Square test to determine if there is a significant association between age groups and voter preferences.\n",
        "# Use the below code to generate data:\n",
        "# ```python\n",
        "# np.random.seed(0)\n",
        "# age_groups = np.random.choice(['18-30', '31-50', '51+', '51+'], size=30)\n",
        "# voter_preferences = np.random.choice(['Candidate A', 'Candidate B'], size=30)\n",
        "\n",
        "\n",
        "\n",
        "import numpy as np\n",
        "import pandas as pd\n",
        "import scipy.stats as stats\n",
        "\n",
        "# Generate synthetic data for age groups and voter preferences\n",
        "np.random.seed(0)\n",
        "age_groups = np.random.choice(['18-30', '31-50', '51+', '51+'], size=30)\n",
        "voter_preferences = np.random.choice(['Candidate A', 'Candidate B'], size=30)\n",
        "\n",
        "# Create a contingency table\n",
        "contingency_table = pd.crosstab(age_groups, voter_preferences)\n",
        "\n",
        "# Perform the Chi-Square test of independence\n",
        "chi2_stat, p_value, dof, expected = stats.chi2_contingency(contingency_table)\n",
        "\n",
        "# Output the results\n",
        "print(f\"Chi-Square Statistic: {chi2_stat:.4f}\")\n",
        "print(f\"P-value: {p_value:.4f}\")\n",
        "print(f\"Degrees of Freedom: {dof}\")\n",
        "print(\"Expected frequencies table:\")\n",
        "print(expected)\n",
        "\n",
        "# Interpret the result\n",
        "alpha = 0.05  # Significance level\n",
        "if p_value < alpha:\n",
        "    print(\"Reject the null hypothesis: There is a significant association between age groups and voter preferences.\")\n",
        "else:\n",
        "    print(\"Fail to reject the null hypothesis: No significant association between age groups and voter preferences.\")\n"
      ],
      "metadata": {
        "colab": {
          "base_uri": "https://localhost:8080/"
        },
        "id": "Ri1nw0Zj-Ayf",
        "outputId": "51705a87-3c90-40bd-bb81-e6d0f3a65032"
      },
      "execution_count": 25,
      "outputs": [
        {
          "output_type": "stream",
          "name": "stdout",
          "text": [
            "Chi-Square Statistic: 1.0868\n",
            "P-value: 0.5808\n",
            "Degrees of Freedom: 2\n",
            "Expected frequencies table:\n",
            "[[2.93333333 5.06666667]\n",
            " [2.93333333 5.06666667]\n",
            " [5.13333333 8.86666667]]\n",
            "Fail to reject the null hypothesis: No significant association between age groups and voter preferences.\n"
          ]
        }
      ]
    },
    {
      "cell_type": "code",
      "source": [
        "# Q22. A company conducted a customer satisfaction survey to determine if there is a significant relationship between product satisfaction levels (Satisfied, Neutral, Dissatisfied) and the region where customers are located (East, West, North, South). The survey data is summarized in a contingency table. Conduct a ChiSquare test to determine if there is a significant relationship between product satisfaction levels and customer regions.\n",
        "# Sample data:\n",
        "# ```python\n",
        "# ```\n",
        "#Sample data: Product satisfaction levels (rows) vs. Customer regions (columns)\n",
        "# data = np.array([[50, 30, 40, 20], [30, 40, 30, 50], [20, 30, 40, 30]])\n",
        "\n",
        "\n",
        "\n",
        "import numpy as np\n",
        "import scipy.stats as stats\n",
        "\n",
        "# Sample data: Product satisfaction levels (rows) vs. Customer regions (columns)\n",
        "data = np.array([[50, 30, 40, 20],  # Satisfied\n",
        "                 [30, 40, 30, 50],  # Neutral\n",
        "                 [20, 30, 40, 30]])  # Dissatisfied\n",
        "\n",
        "# Perform the Chi-Square test of independence\n",
        "chi2_stat, p_value, dof, expected = stats.chi2_contingency(data)\n",
        "\n",
        "# Output the results\n",
        "print(f\"Chi-Square Statistic: {chi2_stat:.4f}\")\n",
        "print(f\"P-value: {p_value:.4f}\")\n",
        "print(f\"Degrees of Freedom: {dof}\")\n",
        "print(\"Expected frequencies table:\")\n",
        "print(expected)\n",
        "\n",
        "# Interpret the result\n",
        "alpha = 0.05  # Significance level\n",
        "if p_value < alpha:\n",
        "    print(\"Reject the null hypothesis: There is a significant relationship between product satisfaction levels and customer regions.\")\n",
        "else:\n",
        "    print(\"Fail to reject the null hypothesis: No significant relationship between product satisfaction levels and customer regions.\")\n"
      ],
      "metadata": {
        "colab": {
          "base_uri": "https://localhost:8080/"
        },
        "id": "mPV6_4jD-NDK",
        "outputId": "075ba71c-2e03-4dc9-fa83-87395352ed6d"
      },
      "execution_count": 26,
      "outputs": [
        {
          "output_type": "stream",
          "name": "stdout",
          "text": [
            "Chi-Square Statistic: 27.7771\n",
            "P-value: 0.0001\n",
            "Degrees of Freedom: 6\n",
            "Expected frequencies table:\n",
            "[[34.14634146 34.14634146 37.56097561 34.14634146]\n",
            " [36.58536585 36.58536585 40.24390244 36.58536585]\n",
            " [29.26829268 29.26829268 32.19512195 29.26829268]]\n",
            "Reject the null hypothesis: There is a significant relationship between product satisfaction levels and customer regions.\n"
          ]
        }
      ]
    },
    {
      "cell_type": "code",
      "source": [
        "# Q23. . A company implemented an employee training program to improve job performance (Effective, Neutral,\n",
        "# Ineffective). After the training, they collected data from a sample of employees and classified them based\n",
        "# on their job performance before and after the training. Perform a Chi-Square test to determine if there is a\n",
        "# significant difference between job performance levels before and after the training.\n",
        "# Sample data:\n",
        "# ```python\n",
        "# data = np.array([[50, 30, 20], [30, 40, 30], [20, 30, 40]])\n",
        "# ```\n",
        "# Sample data: Job performance levels before (rows) and after (columns) training\n",
        "\n",
        "\n",
        "\n",
        "import numpy as np\n",
        "import scipy.stats as stats\n",
        "\n",
        "# Sample data: Job performance levels before (rows) and after (columns) training\n",
        "data = np.array([[50, 30, 20],  # Before training (Effective, Neutral, Ineffective)\n",
        "                 [30, 40, 30],  # After training (Effective, Neutral, Ineffective)\n",
        "                 [20, 30, 40]])\n",
        "\n",
        "# Perform the Chi-Square test of independence\n",
        "chi2_stat, p_value, dof, expected = stats.chi2_contingency(data)\n",
        "\n",
        "# Output the results\n",
        "print(f\"Chi-Square Statistic: {chi2_stat:.4f}\")\n",
        "print(f\"P-value: {p_value:.4f}\")\n",
        "print(f\"Degrees of Freedom: {dof}\")\n",
        "print(\"Expected frequencies table:\")\n",
        "print(expected)\n",
        "\n",
        "# Interpret the result\n",
        "alpha = 0.05  # Significance level\n",
        "if p_value < alpha:\n",
        "    print(\"Reject the null hypothesis: There is a significant difference in job performance levels before and after the training.\")\n",
        "else:\n",
        "    print(\"Fail to reject the null hypothesis: No significant difference in job performance levels before and after the training.\")\n"
      ],
      "metadata": {
        "colab": {
          "base_uri": "https://localhost:8080/"
        },
        "id": "l_6ToWXn-eCd",
        "outputId": "66ebe7c2-1f8b-445b-8e0a-35db6f4b3898"
      },
      "execution_count": 27,
      "outputs": [
        {
          "output_type": "stream",
          "name": "stdout",
          "text": [
            "Chi-Square Statistic: 22.1617\n",
            "P-value: 0.0002\n",
            "Degrees of Freedom: 4\n",
            "Expected frequencies table:\n",
            "[[34.48275862 34.48275862 31.03448276]\n",
            " [34.48275862 34.48275862 31.03448276]\n",
            " [31.03448276 31.03448276 27.93103448]]\n",
            "Reject the null hypothesis: There is a significant difference in job performance levels before and after the training.\n"
          ]
        }
      ]
    },
    {
      "cell_type": "code",
      "source": [
        "# Q24. . A company produces three different versions of a product: Standard, Premium, and Deluxe. The\n",
        "# company wants to determine if there is a significant difference in customer satisfaction scores among the\n",
        "# three product versions. They conducted a survey and collected customer satisfaction scores for each\n",
        "# version from a random sample of customers. Perform an ANOVA test to determine if there is a significant\n",
        "# difference in customer satisfaction scores.\n",
        "# Use the following data:\n",
        "# ```python\n",
        "# Sample data: Customer satisfaction scores for each product version\n",
        "# standard_scores = [80, 85, 90, 78, 88, 82, 92, 78, 85, 87]\n",
        "# ```\n",
        "# premium_scores = [90, 92, 88, 92, 95, 91, 96, 93, 89, 93]\n",
        "# deluxe_scores = [95, 98, 92, 97, 96, 94, 98, 97, 92, 99]\n",
        "\n",
        "\n",
        "\n",
        "\n",
        "import numpy as np\n",
        "import scipy.stats as stats\n",
        "\n",
        "# Sample data: Customer satisfaction scores for each product version\n",
        "standard_scores = [80, 85, 90, 78, 88, 82, 92, 78, 85, 87]\n",
        "premium_scores = [90, 92, 88, 92, 95, 91, 96, 93, 89, 93]\n",
        "deluxe_scores = [95, 98, 92, 97, 96, 94, 98, 97, 92, 99]\n",
        "\n",
        "# Perform the one-way ANOVA test\n",
        "f_statistic, p_value = stats.f_oneway(standard_scores, premium_scores, deluxe_scores)\n",
        "\n",
        "# Output the results\n",
        "print(f\"F-statistic: {f_statistic:.4f}\")\n",
        "print(f\"P-value: {p_value:.4f}\")\n",
        "\n",
        "# Interpret the result\n",
        "alpha = 0.05  # Significance level\n",
        "if p_value < alpha:\n",
        "    print(\"Reject the null hypothesis: There is a significant difference in customer satisfaction scores among the product versions.\")\n",
        "else:\n",
        "    print(\"Fail to reject the null hypothesis: No significant difference in customer satisfaction scores among the product versions.\")\n"
      ],
      "metadata": {
        "colab": {
          "base_uri": "https://localhost:8080/"
        },
        "id": "fYPu8f3g-qR3",
        "outputId": "636485ce-1ba2-4b81-858c-7697f7ed3d29"
      },
      "execution_count": 28,
      "outputs": [
        {
          "output_type": "stream",
          "name": "stdout",
          "text": [
            "F-statistic: 27.0356\n",
            "P-value: 0.0000\n",
            "Reject the null hypothesis: There is a significant difference in customer satisfaction scores among the product versions.\n"
          ]
        }
      ]
    }
  ],
  "metadata": {
    "colab": {
      "provenance": []
    },
    "kernelspec": {
      "display_name": "Python 3",
      "name": "python3"
    },
    "language_info": {
      "name": "python"
    }
  },
  "nbformat": 4,
  "nbformat_minor": 0
}